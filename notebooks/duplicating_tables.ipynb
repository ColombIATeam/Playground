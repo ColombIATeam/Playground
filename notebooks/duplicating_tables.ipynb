{
 "cells": [
  {
   "cell_type": "code",
   "execution_count": 1,
   "metadata": {},
   "outputs": [],
   "source": [
    "import os\n",
    "os.chdir('../src')\n",
    "\n",
    "from server.sql_utils import SQL_Utils\n",
    "SQL_Utils = SQL_Utils()\n",
    "\n",
    "from domain.entities import (subject,topic,section,summary)\n",
    "subjects = SQL_Utils.select_table(subject.Subject)\n",
    "topics = SQL_Utils.select_table(topic.Topic)\n",
    "sections = SQL_Utils.select_table(section.Section)\n",
    "summarys = SQL_Utils.select_table(summary.Summary)"
   ]
  },
  {
   "cell_type": "code",
   "execution_count": null,
   "metadata": {},
   "outputs": [
    {
     "name": "stderr",
     "output_type": "stream",
     "text": [
      "C:\\Users\\juanm\\AppData\\Local\\Temp\\ipykernel_3240\\74262970.py:3: DeprecationWarning: \n",
      "        🚨 `obj.dict()` was deprecated in SQLModel 0.0.14, you should\n",
      "        instead use `obj.model_dump()`.\n",
      "        \n",
      "  topics_dicts = [topic.dict() for topic in summarys]\n"
     ]
    }
   ],
   "source": [
    "import pandas as pd\n",
    "topics_dicts = [topic.dict() for topic in summarys]  \n",
    "df = pd.DataFrame(topics_dicts)  \n",
    "df.to_csv('summarys.csv')"
   ]
  },
  {
   "cell_type": "code",
   "execution_count": 14,
   "metadata": {},
   "outputs": [],
   "source": [
    "import pandas as pd\n",
    "df = pd.read_csv('topics.csv')\n",
    "for i in range(len(df)):\n",
    "    SQL_Utils.insert_data(topic.Topic(topic_id=int(df.loc[i,'topic_id']),\n",
    "                                      topic_name=df.loc[i,'topic_name'],\n",
    "                                      topic_version=1,\n",
    "                                      subject_id=int(df.loc[i,'subject_id'])))"
   ]
  },
  {
   "cell_type": "code",
   "execution_count": 2,
   "metadata": {},
   "outputs": [],
   "source": [
    "import pandas as pd\n",
    "df = pd.read_csv('sections.csv')\n",
    "for i in range(len(df)):\n",
    "    SQL_Utils.insert_data(section.Section(section_id=int(df.loc[i,'section_id']),\n",
    "                                          section_name=df.loc[i,'section_name'],\n",
    "                                          content=df.loc[i,'content'],\n",
    "                                          topic_id=int(df.loc[i+1,'topic_id']) if str(df.loc[i,'topic_id'])=='nan' else int(df.loc[i,'topic_id'])))"
   ]
  },
  {
   "cell_type": "code",
   "execution_count": 78,
   "metadata": {},
   "outputs": [
    {
     "data": {
      "text/plain": [
       "\"An error occurred: Foreign key associated with column 'section.topic_id' could not find table 'tagger.topic' with which to generate a foreign key to target column 'topic_id'\""
      ]
     },
     "execution_count": 78,
     "metadata": {},
     "output_type": "execute_result"
    }
   ],
   "source": [
    "import pandas as pd\n",
    "df = pd.read_csv('summarys.csv')\n",
    "for i in range(len(df)):\n",
    "    SQL_Utils.insert_data(summary.Summary(summary_id=int(df.loc[i,'summary_id']),\n",
    "                                          summary=df.loc[i,'summary'],\n",
    "                                          section_id=int(df.loc[i,'section_id'])))"
   ]
  }
 ],
 "metadata": {
  "kernelspec": {
   "display_name": ".venv",
   "language": "python",
   "name": "python3"
  },
  "language_info": {
   "codemirror_mode": {
    "name": "ipython",
    "version": 3
   },
   "file_extension": ".py",
   "mimetype": "text/x-python",
   "name": "python",
   "nbconvert_exporter": "python",
   "pygments_lexer": "ipython3",
   "version": "3.11.0"
  }
 },
 "nbformat": 4,
 "nbformat_minor": 2
}
