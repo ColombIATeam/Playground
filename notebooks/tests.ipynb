{
 "cells": [
  {
   "cell_type": "code",
   "execution_count": 1,
   "metadata": {},
   "outputs": [],
   "source": [
    "import os\n",
    "os.chdir('../src')\n",
    "\n",
    "from server.sql_utils import SQL_Utils\n",
    "SQL_Utils = SQL_Utils()\n",
    "\n",
    "from domain.entities import (subject,topic,section,summary)\n",
    "subjects = SQL_Utils.select_table(subject.Subject)\n",
    "topics = SQL_Utils.select_table(topic.Topic)\n",
    "sections = SQL_Utils.select_table(section.Section)\n",
    "summarys = SQL_Utils.select_table(summary.Summary)"
   ]
  }
 ],
 "metadata": {
  "kernelspec": {
   "display_name": ".venv",
   "language": "python",
   "name": "python3"
  },
  "language_info": {
   "codemirror_mode": {
    "name": "ipython",
    "version": 3
   },
   "file_extension": ".py",
   "mimetype": "text/x-python",
   "name": "python",
   "nbconvert_exporter": "python",
   "pygments_lexer": "ipython3",
   "version": "3.11.0"
  }
 },
 "nbformat": 4,
 "nbformat_minor": 2
}
