{
 "cells": [
  {
   "cell_type": "code",
   "execution_count": 1,
   "metadata": {},
   "outputs": [],
   "source": [
    "import os\n",
    "os.chdir('../src')"
   ]
  },
  {
   "cell_type": "code",
   "execution_count": 2,
   "metadata": {},
   "outputs": [],
   "source": [
    "from api.common.dependency_container import DependencyContainer\n",
    "DC = DependencyContainer()\n",
    "DC.initialize()"
   ]
  },
  {
   "cell_type": "code",
   "execution_count": null,
   "metadata": {},
   "outputs": [],
   "source": []
  },
  {
   "cell_type": "code",
   "execution_count": 3,
   "metadata": {},
   "outputs": [],
   "source": [
    "from sqlalchemy import Engine\n",
    "from sqlmodel import Session, select\n",
    "\n",
    "def select_table(type_class):\n",
    "    with Session(DC._database_engine) as session:\n",
    "        statement = select(type_class)\n",
    "        results = session.exec(statement)\n",
    "        return results.all()"
   ]
  },
  {
   "cell_type": "code",
   "execution_count": 5,
   "metadata": {},
   "outputs": [
    {
     "data": {
      "text/plain": [
       "['Introducción a la Economía',\n",
       " 'Publicidad Digital',\n",
       " 'Analitica Avanzada',\n",
       " 'Fundamentos de programación',\n",
       " 'Asignatura_10']"
      ]
     },
     "execution_count": 5,
     "metadata": {},
     "output_type": "execute_result"
    }
   ],
   "source": [
    "from domain.entities import subject\n",
    "subjects_table = select_table(subject.Subject)\n",
    "subjects_dropped_list = [x.subject_name for x in subjects_table]\n",
    "subjects_dropped_list"
   ]
  },
  {
   "cell_type": "code",
   "execution_count": null,
   "metadata": {},
   "outputs": [],
   "source": [
    "from domain.entities import topic\n",
    "topic_table = select_table(topic.Topic)\n",
    "\n",
    "subject_name = 'Introducción a la Economía'\n",
    "subject_id = [x.subject_id for x in subjects_table if x.subject_name == subject_name]\n",
    "\n",
    "\"\"\"def subject_change(rs):\n",
    "    return gr.update(choices=topics[rs], value=None)\n",
    "\n",
    "topic_dropped_list = []\"\"\""
   ]
  }
 ],
 "metadata": {
  "kernelspec": {
   "display_name": ".venv",
   "language": "python",
   "name": "python3"
  },
  "language_info": {
   "codemirror_mode": {
    "name": "ipython",
    "version": 3
   },
   "file_extension": ".py",
   "mimetype": "text/x-python",
   "name": "python",
   "nbconvert_exporter": "python",
   "pygments_lexer": "ipython3",
   "version": "3.11.6"
  }
 },
 "nbformat": 4,
 "nbformat_minor": 2
}
