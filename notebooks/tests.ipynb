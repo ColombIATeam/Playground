{
 "cells": [
  {
   "cell_type": "code",
   "execution_count": 1,
   "metadata": {},
   "outputs": [],
   "source": [
    "import os\n",
    "os.chdir('../src')"
   ]
  },
  {
   "cell_type": "code",
   "execution_count": 2,
   "metadata": {},
   "outputs": [],
   "source": [
    "from api.common.dependency_container import DependencyContainer\n",
    "DC = DependencyContainer()\n",
    "DC.initialize()"
   ]
  },
  {
   "cell_type": "code",
   "execution_count": 3,
   "metadata": {},
   "outputs": [],
   "source": [
    "from sqlalchemy import Engine\n",
    "from sqlmodel import Session, select\n",
    "\n",
    "def select_table(type_class):\n",
    "    with Session(DC._database_engine) as session:\n",
    "        statement = select(type_class)\n",
    "        results = session.exec(statement)\n",
    "        return results.all()"
   ]
  },
  {
   "cell_type": "code",
   "execution_count": 5,
   "metadata": {},
   "outputs": [
    {
     "data": {
      "text/plain": [
       "['Introducción a la Economía',\n",
       " 'Publicidad Digital',\n",
       " 'Analitica Avanzada',\n",
       " 'Fundamentos de programación',\n",
       " 'Asignatura_10']"
      ]
     },
     "execution_count": 5,
     "metadata": {},
     "output_type": "execute_result"
    }
   ],
   "source": [
    "from domain.entities import subject\n",
    "subjects_table = select_table(subject.Subject)\n",
    "subjects_dropped_list = [x.subject_name for x in subjects_table]\n",
    "subjects_dropped_list"
   ]
  },
  {
   "cell_type": "code",
   "execution_count": 9,
   "metadata": {},
   "outputs": [
    {
     "data": {
      "text/plain": [
       "['1 La analítica digital en la empresa',\n",
       " '10 Looker Studio',\n",
       " '2 Plan de medición',\n",
       " '3 Herramientas de analítica digital',\n",
       " '4 El ROI y las métricas publicitarias',\n",
       " '5 Introducción a Google Analytics',\n",
       " '6 Métricas básicas y aplicadas a <em>ecommerce</em>',\n",
       " '7 GA4 básico',\n",
       " '8 Google Analytics avanzado',\n",
       " '9 Google Tag Manager']"
      ]
     },
     "execution_count": 9,
     "metadata": {},
     "output_type": "execute_result"
    }
   ],
   "source": [
    "from domain.entities import topic\n",
    "topic_table = select_table(topic.Topic)\n",
    "\n",
    "subject_name = 'Analitica Avanzada'\n",
    "subject_id = [x.subject_id for x in subjects_table if x.subject_name == subject_name]\n",
    "\n",
    "topic_droped_list = [x.topic_name for x in topic_table if x.subject_id == subject_id[0]]\n",
    "\n",
    "topic_droped_list"
   ]
  },
  {
   "cell_type": "code",
   "execution_count": 11,
   "metadata": {},
   "outputs": [
    {
     "data": {
      "text/plain": [
       "['1.1. Introducción y objetivos',\n",
       " '1.2. La importancia de los datos',\n",
       " '1.3. Análisis de campañas de marketing',\n",
       " '1.4. Segmentación estratégica de clientes',\n",
       " '1.5. Ciclo de vida del cliente',\n",
       " '1.6. Life time value',\n",
       " '1.7. Introducción a los modelos RFM']"
      ]
     },
     "execution_count": 11,
     "metadata": {},
     "output_type": "execute_result"
    }
   ],
   "source": [
    "from domain.entities import section\n",
    "section_table = select_table(section.Section)\n",
    "\n",
    "subject_name = 'Analitica Avanzada'\n",
    "topic_name = '1 La analítica digital en la empresa'\n",
    "topic_id = [x.topic_id for x in topic_table if x.topic_name == topic_name]\n",
    "\n",
    "section_dropped_list = [x.section_name for x in section_table if x.topic_id == topic_id[0]]\n",
    "\n",
    "section_dropped_list\n"
   ]
  }
 ],
 "metadata": {
  "kernelspec": {
   "display_name": ".venv",
   "language": "python",
   "name": "python3"
  },
  "language_info": {
   "codemirror_mode": {
    "name": "ipython",
    "version": 3
   },
   "file_extension": ".py",
   "mimetype": "text/x-python",
   "name": "python",
   "nbconvert_exporter": "python",
   "pygments_lexer": "ipython3",
   "version": "3.11.6"
  }
 },
 "nbformat": 4,
 "nbformat_minor": 2
}
