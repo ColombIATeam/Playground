{
 "cells": [
  {
   "cell_type": "code",
   "execution_count": null,
   "metadata": {},
   "outputs": [],
   "source": [
    "import os\n",
    "os.chdir(\"../src\")"
   ]
  },
  {
   "cell_type": "code",
   "execution_count": 28,
   "metadata": {},
   "outputs": [
    {
     "name": "stdout",
     "output_type": "stream",
     "text": [
      "Running on local URL:  http://127.0.0.1:7882\n",
      "\n",
      "Could not create share link. Please check your internet connection or our status page: https://status.gradio.app.\n"
     ]
    },
    {
     "data": {
      "text/html": [
       "<div><iframe src=\"http://127.0.0.1:7882/\" width=\"100%\" height=\"500\" allow=\"autoplay; camera; microphone; clipboard-read; clipboard-write;\" frameborder=\"0\" allowfullscreen></iframe></div>"
      ],
      "text/plain": [
       "<IPython.core.display.HTML object>"
      ]
     },
     "metadata": {},
     "output_type": "display_data"
    },
    {
     "data": {
      "text/plain": []
     },
     "execution_count": 28,
     "metadata": {},
     "output_type": "execute_result"
    }
   ],
   "source": [
    "import gradio as gr\n",
    "from api.workflows.test_questions.test_request import TestRequest\n",
    "from api.common.dependency_container import DependencyContainer\n",
    "\n",
    "DC = DependencyContainer()\n",
    "DC.initialize()\n",
    "\n",
    "def select_table(type_class):\n",
    "    with Session(DC._database_engine) as session:\n",
    "        statement = select(type_class)\n",
    "        results = session.exec(statement)\n",
    "        return results.all()\n",
    "\n",
    "def greet(Content, prompt_pregunta):\n",
    "    \n",
    "    request = TestRequest(text= Content, prompt= prompt_pregunta)\n",
    "    \n",
    "    return str(DC.get_text_test_workflow().execute(request))\n",
    "\n",
    "subjects = [\"Analitica\", \"Economia\", \"programacion\", \"Publicidad\"]\n",
    "topics = {\"Analitica\":[1,2,3], \"Economia\":[1,2], \"programacion\":[1], \"Publicidad\":[1,2,3,4,5,6,7]}\n",
    "sections = {\"Analitica\":{1:[\"a\",\"b\"],2:[\"a\",\"c\"],3:[\"a\",\"d\"]}, \"Economia\":{1:[\"a\",\"b\"],2:[\"a\",\"c\"]}, \"programacion\":{1:[\"a\",\"b\"]}, \"Publicidad\":{1:[\"a\",\"b\"],2:[\"a\",\"c\"],3:[\"a\",\"d\"],4:[\"a\",\"e\"]}}\n",
    "\n",
    "def subject_change(rs):\n",
    "    return gr.update(choices=topics[rs], value=None)\n",
    "\n",
    "def topic_change(rs):\n",
    "    return gr.update(choices=sections[rs][1], value=None)\n",
    "\n",
    "with gr.Blocks() as demo:\n",
    "\n",
    "    drop_subject = gr.Dropdown(subjects, label=\"subject\",value=\"Economia\")\n",
    "    drop_topic = gr.Dropdown(topics[\"Economia\"], label=\"Topic\", interactive=True)\n",
    "    drop_section = gr.Dropdown(sections[\"Economia\"][1], label=\"Section\", interactive=True)\n",
    "    \n",
    "    \n",
    "    summary = gr.Textbox(lines=1, label=\"Topic Summary\")\n",
    "    \n",
    "    gr.Interface(\n",
    "    fn=greet,\n",
    "    inputs=[\n",
    "            gr.Textbox(lines=1, label=\"No va a estar\"),\n",
    "            gr.Textbox(lines=1, label=\"Prompt\"),\n",
    "            ],\n",
    "    \n",
    "    outputs=\"text\",)\n",
    "\n",
    "    drop_subject.change(fn=subject_change, inputs=[drop_subject], outputs=[drop_topic])\n",
    "    drop_topic.change(fn=topic_change, inputs=[drop_subject], outputs=[drop_section])\n",
    "\n",
    "demo.launch(share=True)"
   ]
  },
  {
   "cell_type": "code",
   "execution_count": 21,
   "metadata": {},
   "outputs": [
    {
     "data": {
      "text/plain": [
       "['a', 'b']"
      ]
     },
     "execution_count": 21,
     "metadata": {},
     "output_type": "execute_result"
    }
   ],
   "source": [
    "sections[\"Economia\"][1]"
   ]
  },
  {
   "cell_type": "markdown",
   "metadata": {},
   "source": []
  }
 ],
 "metadata": {
  "kernelspec": {
   "display_name": "Python 3",
   "language": "python",
   "name": "python3"
  },
  "language_info": {
   "codemirror_mode": {
    "name": "ipython",
    "version": 3
   },
   "file_extension": ".py",
   "mimetype": "text/x-python",
   "name": "python",
   "nbconvert_exporter": "python",
   "pygments_lexer": "ipython3",
   "version": "3.11.6"
  }
 },
 "nbformat": 4,
 "nbformat_minor": 2
}
