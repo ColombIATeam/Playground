{
 "cells": [
  {
   "cell_type": "code",
   "execution_count": 1,
   "metadata": {},
   "outputs": [],
   "source": [
    "import os\n",
    "os.chdir(\"../src\")"
   ]
  },
  {
   "cell_type": "code",
   "execution_count": 2,
   "metadata": {},
   "outputs": [],
   "source": [
    "from sqlmodel import Session, select\n",
    "from api.common.dependency_container import DependencyContainer\n",
    "from domain.entities import subject, topic, section, summary\n",
    "\n",
    "DC = DependencyContainer()\n",
    "DC.initialize()\n",
    "\n",
    "def select_table(type_class):\n",
    "    with Session(DC._database_engine) as session:\n",
    "        statement = select(type_class)\n",
    "        results = session.exec(statement)\n",
    "        return results.all()\n",
    "    \n",
    "subjects_table = select_table(subject.Subject)\n",
    "topic_table = select_table(topic.Topic)\n",
    "section_table = select_table(section.Section)\n",
    "summaries_table = select_table(summary.Summary)"
   ]
  },
  {
   "cell_type": "code",
   "execution_count": 4,
   "metadata": {},
   "outputs": [
    {
     "name": "stderr",
     "output_type": "stream",
     "text": [
      "c:\\Users\\juanjose.rueda\\AppData\\Local\\Programs\\Python\\Python311\\Lib\\site-packages\\tqdm\\auto.py:21: TqdmWarning: IProgress not found. Please update jupyter and ipywidgets. See https://ipywidgets.readthedocs.io/en/stable/user_install.html\n",
      "  from .autonotebook import tqdm as notebook_tqdm\n"
     ]
    },
    {
     "name": "stdout",
     "output_type": "stream",
     "text": [
      "Running on local URL:  http://127.0.0.1:7860\n",
      "\n",
      "Could not create share link. Please check your internet connection or our status page: https://status.gradio.app.\n"
     ]
    },
    {
     "data": {
      "text/html": [
       "<div><iframe src=\"http://127.0.0.1:7860/\" width=\"100%\" height=\"500\" allow=\"autoplay; camera; microphone; clipboard-read; clipboard-write;\" frameborder=\"0\" allowfullscreen></iframe></div>"
      ],
      "text/plain": [
       "<IPython.core.display.HTML object>"
      ]
     },
     "metadata": {},
     "output_type": "display_data"
    },
    {
     "data": {
      "text/plain": []
     },
     "execution_count": 4,
     "metadata": {},
     "output_type": "execute_result"
    },
    {
     "name": "stderr",
     "output_type": "stream",
     "text": [
      "ERROR:asyncio:Exception in callback _ProactorBasePipeTransport._call_connection_lost(None)\n",
      "handle: <Handle _ProactorBasePipeTransport._call_connection_lost(None)>\n",
      "Traceback (most recent call last):\n",
      "  File \"c:\\Users\\juanjose.rueda\\AppData\\Local\\Programs\\Python\\Python311\\Lib\\asyncio\\events.py\", line 80, in _run\n",
      "    self._context.run(self._callback, *self._args)\n",
      "  File \"c:\\Users\\juanjose.rueda\\AppData\\Local\\Programs\\Python\\Python311\\Lib\\asyncio\\proactor_events.py\", line 165, in _call_connection_lost\n",
      "    self._sock.shutdown(socket.SHUT_RDWR)\n",
      "ConnectionResetError: [WinError 10054] Se ha forzado la interrupción de una conexión existente por el host remoto\n"
     ]
    }
   ],
   "source": [
    "import gradio as gr\n",
    "from api.workflows.test_questions.test_request import TestRequest\n",
    "from api.common.dependency_container import DependencyContainer\n",
    "\n",
    "subjects_dropped_list = [x.subject_name for x in subjects_table]\n",
    "\n",
    "DC = DependencyContainer()\n",
    "DC.initialize()\n",
    "\n",
    "def select_table(type_class):\n",
    "    with Session(DC._database_engine) as session:\n",
    "        statement = select(type_class)\n",
    "        results = session.exec(statement)\n",
    "        return results.all()\n",
    "\n",
    "def greet(Content, prompt_pregunta):\n",
    "    \n",
    "    request = TestRequest(text= Content, prompt= prompt_pregunta)\n",
    "    \n",
    "    return str(DC.get_text_test_workflow().execute(request))\n",
    "\n",
    "\n",
    "def subject_change(rs):\n",
    "    \n",
    "    subject_id = [x.subject_id for x in subjects_table if x.subject_name == rs]\n",
    "    topic_dropped_list = [x.topic_name for x in topic_table if x.subject_id == subject_id[0]]\n",
    "    \n",
    "    return gr.update(choices=topic_dropped_list, value=None)\n",
    "\n",
    "def topic_change(rs):\n",
    "    if rs:\n",
    "        topic_id = [x.topic_id for x in topic_table if x.topic_name == rs]\n",
    "        section_dropped_list = [x.section_name for x in section_table if x.topic_id == topic_id[0]]\n",
    "\n",
    "        return gr.update(choices=section_dropped_list, value=None)\n",
    "    else:\n",
    "        return gr.update(choices=[\"no topic selected\"], value=None)\n",
    "    \n",
    "def section_change(rs):\n",
    "    if rs:\n",
    "        section_id = [x.section_id for x in section_table if x.section_name == rs]\n",
    "        content = [x.content for x in section_table if x.section_name == rs]\n",
    "    \n",
    "    \n",
    "with gr.Blocks() as demo:\n",
    "\n",
    "    drop_subject = gr.Dropdown(subjects_dropped_list, label=\"subject\")\n",
    "    drop_topic = gr.Dropdown([], label=\"Topic\", interactive=True)\n",
    "    drop_section = gr.Dropdown([], label=\"Section\", interactive=True)\n",
    "    \n",
    "    \n",
    "    summary = gr.Textbox(lines=1, label=\"Topic Summary\")\n",
    "    \n",
    "    gr.Interface(\n",
    "    fn=greet,\n",
    "    inputs=[\n",
    "            gr.Textbox(lines=1, label=\"No va a estar\"),\n",
    "            gr.Textbox(lines=1, label=\"Prompt\"),\n",
    "            ],\n",
    "    \n",
    "    outputs=\"text\",)\n",
    "\n",
    "    drop_subject.change(fn=subject_change, inputs=[drop_subject], outputs=[drop_topic])\n",
    "    drop_topic.change(fn=topic_change, inputs=[drop_topic], outputs=[drop_section])\n",
    "\n",
    "demo.launch(share=True)"
   ]
  }
 ],
 "metadata": {
  "kernelspec": {
   "display_name": "Python 3",
   "language": "python",
   "name": "python3"
  },
  "language_info": {
   "codemirror_mode": {
    "name": "ipython",
    "version": 3
   },
   "file_extension": ".py",
   "mimetype": "text/x-python",
   "name": "python",
   "nbconvert_exporter": "python",
   "pygments_lexer": "ipython3",
   "version": "3.11.6"
  }
 },
 "nbformat": 4,
 "nbformat_minor": 2
}
